import numpy as np
import pandas as pd
import matplotlib.pyplot as plt
import seaborn as sns
from sklearn.model_selection import train_test_split
from sklearn.linear_model import LinearRegression
from sklearn.metrics import mean_squared_error

# Generate synthetic dataset
np.random.seed(42)
X = 2 * np.random.rand(100, 1)
y = 4 + 3 * X + np.random.randn(100, 1)

# Create a DataFrame
df = pd.DataFrame(data=np.column_stack((X, y)), columns=["X", "y"])

# Split the dataset into training and testing sets
X_train, X_test, y_train, y_test = train_test_split(X, y, test_size=0.2, random_state=42)

# Perform linear regression
model = LinearRegression()
model.fit(X_train, y_train)

# Make predictions on the test set
y_pred = model.predict(X_test)

# Evaluate the model
mse = mean_squared_error(y_test, y_pred)
print(f'Mean Squared Error: {mse}')

# Plot the results
plt.figure(figsize=(10, 6))

# Scatter plot of the original data
sns.scatterplot(x="X", y="y", data=df, label="Original Data")

# Regression line
sns.lineplot(x=X_test.flatten(), y=y_pred.flatten(), color='red', label="Regression Line")

plt.title("Linear Regression with Synthetic Data")
plt.xlabel("X")
plt.ylabel("y")
plt.legend()
plt.show()
